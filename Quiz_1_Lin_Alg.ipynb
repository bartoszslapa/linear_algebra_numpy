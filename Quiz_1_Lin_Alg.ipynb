{
 "cells": [
  {
   "cell_type": "markdown",
   "metadata": {},
   "source": [
    "## Linear Algebra Quiz #1\n",
    "We strongly suggest working with numpy :)"
   ]
  },
  {
   "cell_type": "code",
   "execution_count": 1,
   "metadata": {},
   "outputs": [],
   "source": [
    "#Do your imports here\n",
    "import numpy as np"
   ]
  },
  {
   "cell_type": "markdown",
   "metadata": {},
   "source": [
    "![title](./img/1_1.png)"
   ]
  },
  {
   "cell_type": "code",
   "execution_count": 11,
   "metadata": {},
   "outputs": [],
   "source": [
    "a=2\n",
    "b=3\n",
    "c=4\n",
    "\n",
    "x = [a, b, c]\n",
    "# type a function that given a 3_dimensional vector it is able to calculate its magnitude\n",
    "\n",
    "def magnitude_3(a,b,c):\n",
    "    magn = np.linalg.norm( [a, b, c] )\n",
    "    return magn\n",
    "\n",
    "# type a function that given a n_dimensional vector it is able to calculate its magnitude\n",
    "def magnitude(vec):\n",
    "    return np.linalg.norm(vec)"
   ]
  },
  {
   "cell_type": "code",
   "execution_count": 12,
   "metadata": {},
   "outputs": [
    {
     "output_type": "stream",
     "name": "stdout",
     "text": [
      "5.385164807134504\n5.385164807134504\n"
     ]
    }
   ],
   "source": [
    "print(magnitude_3(a, b, c))\n",
    "print(magnitude(x))"
   ]
  },
  {
   "cell_type": "code",
   "execution_count": 13,
   "metadata": {},
   "outputs": [
    {
     "output_type": "execute_result",
     "data": {
      "text/plain": [
       "10.954451150103322"
      ]
     },
     "metadata": {},
     "execution_count": 13
    }
   ],
   "source": [
    "magnitude([2,4,1,5,6,3,2,4,2,2,1])"
   ]
  },
  {
   "cell_type": "code",
   "execution_count": 3,
   "metadata": {},
   "outputs": [],
   "source": [
    "def magnitude_complete_vec(vector):\n",
    "    pass\n",
    "\n",
    "# assert magnitude_complete([1]) == 1.0\n",
    "# assert magnitude_complete([1,2]) >= 2.236\n",
    "# assert magnitude_complete([1,2,3]) >= 3.741\n",
    "# assert magnitude_complete([1,2,3,4,5]) >= 5.477\n",
    "# assert magnitude_complete([1,2,3,4,5]) >= 7.416"
   ]
  },
  {
   "cell_type": "code",
   "execution_count": null,
   "metadata": {},
   "outputs": [],
   "source": [
    "def magnitude_complete(*inputs):\n",
    "    for num in inputs:\n",
    "        pass\n",
    "\n",
    "# CTRL + '/'       # for multiple lines commenting :)\n",
    "\n",
    "#magnitude_complete(1) == 1.0\n",
    "#magnitude_complete(1,2) >= 2.236\n",
    "#magnitude_complete(1,2,3) >= 3.741\n",
    "#magnitude_complete(1,2,3,4,5) >= 5.477\n",
    "#magnitude_complete(1,2,3,4,5) >= 7.416\n"
   ]
  },
  {
   "cell_type": "markdown",
   "metadata": {},
   "source": [
    "![title](./img/1_2.png)"
   ]
  },
  {
   "cell_type": "code",
   "execution_count": null,
   "metadata": {},
   "outputs": [],
   "source": [
    "x = [5,1]\n",
    "y = [-4, -1]\n",
    "\n",
    "def magnitude_vectors(vec1, vec2):\n",
    "    assert len(vec1) == len(vec2)\n",
    "    pass\n",
    "    # return the calculated magnitude of a sum of them (vec1 + vec2)\n",
    "    # np.linalg.norm(vec)"
   ]
  },
  {
   "cell_type": "markdown",
   "metadata": {},
   "source": [
    "![title](./img/1_3.png)"
   ]
  },
  {
   "cell_type": "code",
   "execution_count": null,
   "metadata": {},
   "outputs": [],
   "source": [
    "def direction_vectors(vec1, vec2):    \n",
    "    # checks that size of both vecs is equal   \n",
    "    # returns the direction (the angle) of a vector that is a sum of vec1 and vec2\n",
    "    \n",
    "# or if you want to do it all in one batch:\n",
    "def magdir_vectors(vec1, vec2):\n",
    "    # checks that size is equal\n",
    "\n",
    "    # print magnitude and direction in nice format\n",
    "    # \"The magnitude of a + b is X and the direction is Y\""
   ]
  },
  {
   "cell_type": "markdown",
   "metadata": {},
   "source": [
    "![title](./img/1_4.png)\n",
    "- What is the magnitude of αx⃗? \n",
    "- If α>0, will the direction of the resulting vector change?\n",
    "- If α<0, will the direction of the resulting vector change?\n",
    "- If −1<α<1, will ∥αx⃗∥  increase, decrease or stay the same?"
   ]
  },
  {
   "cell_type": "code",
   "execution_count": null,
   "metadata": {},
   "outputs": [],
   "source": [
    "def alpha_magnitude(alpha, vec):\n",
    "    # we have to return the magnitude of a vector vec\n",
    "    # but with an agle alph\n",
    "\n",
    "    # 1) take vector vec\n",
    "    # 2) calculate it's leght/norm/magnitude\n",
    "    # 3) create a new vector vec2 with the norm u've found and a given alpha\n",
    "    # and the question here is - did the norm/legth/magnitude CHANGE\n",
    "    \n",
    "    # prints the resulting magnitude, if the direction has changed and what has happened to the vector"
   ]
  }
 ],
 "metadata": {
  "kernelspec": {
   "name": "python395jvsc74a57bd05f25a9e58d7059a5bce325f0d5c81f23f5b8f1e91d7d17950277ab26020b5adf",
   "display_name": "Python 3.9.5 64-bit ('webscrapping': conda)"
  },
  "language_info": {
   "codemirror_mode": {
    "name": "ipython",
    "version": 3
   },
   "file_extension": ".py",
   "mimetype": "text/x-python",
   "name": "python",
   "nbconvert_exporter": "python",
   "pygments_lexer": "ipython3",
   "version": "3.9.5"
  }
 },
 "nbformat": 4,
 "nbformat_minor": 2
}